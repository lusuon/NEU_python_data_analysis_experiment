{
 "cells": [
  {
   "cell_type": "markdown",
   "metadata": {},
   "source": [
    "# 第六章 使用scikit-learn构建模型"
   ]
  },
  {
   "cell_type": "markdown",
   "metadata": {},
   "source": [
    "## 1.使用sklearn处理wine、winequality数据集"
   ]
  },
  {
   "cell_type": "markdown",
   "metadata": {},
   "source": [
    "### （1）读取数据集"
   ]
  },
  {
   "cell_type": "code",
   "execution_count": 1,
   "metadata": {
    "scrolled": true
   },
   "outputs": [],
   "source": [
    "import pandas as pd\n",
    "import numpy as np\n",
    "\n",
    "w = pd.read_csv('wine.csv')\n",
    "wq_raw = pd.read_csv('winequality.csv')\n",
    "\n",
    "wq_col = np.array([i.replace('\\\"',\"\") for i in wq_raw.columns.tolist()[0].split(';')])\n",
    "wq = np.array([eval(j) for j in wq_raw.values[0][0].split(';')])\n",
    "for i in wq_raw.index.tolist()[1:]:\n",
    "    wq = np.vstack((wq,np.array([eval(j) for j in wq_raw.values[i][0].split(';')])))\n",
    "wq = pd.DataFrame(wq,columns = wq_col.tolist())"
   ]
  },
  {
   "cell_type": "markdown",
   "metadata": {},
   "source": [
    "### （2）拆分两个数据集的数据和标签"
   ]
  },
  {
   "cell_type": "code",
   "execution_count": 27,
   "metadata": {
    "scrolled": true
   },
   "outputs": [
    {
     "data": {
      "text/plain": [
       "0      1\n",
       "1      1\n",
       "2      1\n",
       "3      1\n",
       "4      1\n",
       "5      1\n",
       "6      1\n",
       "7      1\n",
       "8      1\n",
       "9      1\n",
       "10     1\n",
       "11     1\n",
       "12     1\n",
       "13     1\n",
       "14     1\n",
       "15     1\n",
       "16     1\n",
       "17     1\n",
       "18     1\n",
       "19     1\n",
       "20     1\n",
       "21     1\n",
       "22     1\n",
       "23     1\n",
       "24     1\n",
       "25     1\n",
       "26     1\n",
       "27     1\n",
       "28     1\n",
       "29     1\n",
       "      ..\n",
       "148    3\n",
       "149    3\n",
       "150    3\n",
       "151    3\n",
       "152    3\n",
       "153    3\n",
       "154    3\n",
       "155    3\n",
       "156    3\n",
       "157    3\n",
       "158    3\n",
       "159    3\n",
       "160    3\n",
       "161    3\n",
       "162    3\n",
       "163    3\n",
       "164    3\n",
       "165    3\n",
       "166    3\n",
       "167    3\n",
       "168    3\n",
       "169    3\n",
       "170    3\n",
       "171    3\n",
       "172    3\n",
       "173    3\n",
       "174    3\n",
       "175    3\n",
       "176    3\n",
       "177    3\n",
       "Name: Class, Length: 178, dtype: int64"
      ]
     },
     "execution_count": 27,
     "metadata": {},
     "output_type": "execute_result"
    }
   ],
   "source": [
    "wt = w['Class']\n",
    "wd = w.iloc[:,1:]\n",
    "\n",
    "wqt = wq['quality']\n",
    "wqd = wq.iloc[:,:-1]\n",
    "\n",
    "wt"
   ]
  },
  {
   "cell_type": "markdown",
   "metadata": {},
   "source": [
    "### （3）将wine_quality数据集划分为训练集、测试集"
   ]
  },
  {
   "cell_type": "code",
   "execution_count": 3,
   "metadata": {},
   "outputs": [
    {
     "name": "stdout",
     "output_type": "stream",
     "text": [
      "(1199,)\n"
     ]
    }
   ],
   "source": [
    "from sklearn.model_selection import train_test_split\n",
    "\n",
    "wt_train,wt_test,wd_train,wd_test = train_test_split(wt,wd,test_size = 0.25)\n",
    "wqt_train,wqt_test,wqd_train,wqd_test = train_test_split(wqt,wqd,test_size = 0.25)\n",
    "\n",
    "print(wqt_train.shape)"
   ]
  },
  {
   "cell_type": "markdown",
   "metadata": {},
   "source": [
    "### （4）标准化两个数据集"
   ]
  },
  {
   "cell_type": "code",
   "execution_count": 7,
   "metadata": {},
   "outputs": [],
   "source": [
    "from sklearn.preprocessing import MinMaxScaler\n",
    "'''\n",
    "#生成规则 \n",
    "Scaler_rule_w =  MinMaxScaler().fit(w) \n",
    "Scaler_rule_wq = MinMaxScaler().fit(wq) \n",
    "\n",
    "\n",
    "w_Scaler = Scaler_rule_w.transform(w)\n",
    "wq_Scaler = Scaler_rule_wq.transform(wq) \n",
    "'''\n",
    "\n",
    "\n",
    "w_Scale = MinMaxScaler().fit_transform(w)\n",
    "wq_Scale = MinMaxScaler().fit_transform(wq)"
   ]
  },
  {
   "cell_type": "markdown",
   "metadata": {},
   "source": [
    "### （5）对两个数据集进行PCA降维"
   ]
  },
  {
   "cell_type": "code",
   "execution_count": 8,
   "metadata": {
    "scrolled": false
   },
   "outputs": [],
   "source": [
    "from sklearn.decomposition import PCA\n",
    "w_pca_model = PCA(n_components=0.95).fit(w_Scale) #保留95%数据的模型\n",
    "wq_pca_model = PCA(n_components=0.95).fit(wq_Scale)\n",
    "\n",
    "w_PCA = w_pca_model.transform(w_Scale)\n",
    "wq_PCA = wq_pca_model.transform(wq_Scale)"
   ]
  },
  {
   "cell_type": "code",
   "execution_count": 9,
   "metadata": {},
   "outputs": [
    {
     "name": "stdout",
     "output_type": "stream",
     "text": [
      "(178, 10)\n"
     ]
    },
    {
     "data": {
      "text/plain": [
       "(178, 14)"
      ]
     },
     "execution_count": 9,
     "metadata": {},
     "output_type": "execute_result"
    }
   ],
   "source": [
    "print(w_PCA.shape)\n",
    "w.shape"
   ]
  },
  {
   "cell_type": "markdown",
   "metadata": {},
   "source": [
    "## 2.构建基于wine数据集的K-Means 聚类模型"
   ]
  },
  {
   "cell_type": "markdown",
   "metadata": {},
   "source": [
    "### （1）根据上一题处理结果，构建聚类数目为3的K-Means模型"
   ]
  },
  {
   "cell_type": "code",
   "execution_count": 56,
   "metadata": {
    "scrolled": true
   },
   "outputs": [
    {
     "data": {
      "image/png": "[encoded data removed]",
      "text/plain": [
       "<Figure size 648x432 with 1 Axes>"
      ]
     },
     "metadata": {},
     "output_type": "display_data"
    }
   ],
   "source": [
    "from sklearn.cluster import KMeans\n",
    "import pandas as pd\n",
    "from sklearn.manifold import TSNE\n",
    "import matplotlib.pyplot as plt\n",
    "\n",
    "# train model\n",
    "kmeans = KMeans(n_clusters = 3).fit(w_Scale)\n",
    "\n",
    "# TSNE进行降维\n",
    "tsne = TSNE(n_components = 2,init = 'random').fit(w_Scale)\n",
    "df = pd.DataFrame(tsne.embedding_)\n",
    "df['labels'] = kmeans.labels_\n",
    "# 提取标签\n",
    "df1 = df[df['labels']==0]\n",
    "df2 = df[df['labels']==1]\n",
    "df3 = df[df['labels']==2]\n",
    "\n",
    "fig = plt.figure(figsize=(9,6))\n",
    "plt.plot(df1[0],df1[1],'bo',df2[0],df2[1],'r*',df3[0],df3[1],'gD')\n",
    "plt.savefig('cluster_test')\n",
    "plt.show()\n"
   ]
  },
  {
   "cell_type": "markdown",
   "metadata": {},
   "source": [
    "### （2）对比真实标签和聚类标签求取FMI"
   ]
  },
  {
   "cell_type": "code",
   "execution_count": 57,
   "metadata": {},
   "outputs": [
    {
     "name": "stdout",
     "output_type": "stream",
     "text": [
      "2 0.6622879625433716\n",
      "3 0.976831868106378\n",
      "4 0.8736909280266123\n",
      "5 0.8293543875963968\n",
      "6 0.7733347150604685\n"
     ]
    }
   ],
   "source": [
    "from sklearn.metrics import fowlkes_mallows_score\n",
    "for i in range(2,7):\n",
    "    #构建并训练模型\n",
    "    kmeans = KMeans(n_clusters = i).fit(w_Scale)\n",
    "    score = fowlkes_mallows_score(wt,kmeans.labels_)\n",
    "    print(i,score)"
   ]
  },
  {
   "cell_type": "markdown",
   "metadata": {},
   "source": [
    "### （3）在聚类数目为2-10类时，确定最优聚类数目"
   ]
  },
  {
   "cell_type": "code",
   "execution_count": 59,
   "metadata": {},
   "outputs": [
    {
     "name": "stdout",
     "output_type": "stream",
     "text": [
      "2 0.658535388164797\n",
      "3 0.976831868106378\n",
      "4 0.874979875264973\n",
      "5 0.8250401260646838\n",
      "6 0.8032544528884163\n",
      "7 0.6534023535405435\n",
      "8 0.6528271753009521\n",
      "9 0.5894769676730209\n",
      "10 0.6017758078502798\n"
     ]
    }
   ],
   "source": [
    "best = -1;\n",
    "init_score = 0;\n",
    "for i in range(2,11):\n",
    "    #构建并训练模型\n",
    "    kmeans = KMeans(n_clusters = i).fit(w_Scale)\n",
    "    score = fowlkes_mallows_score(wt,kmeans.labels_)\n",
    "    print(i,score)"
   ]
  },
  {
   "cell_type": "markdown",
   "metadata": {},
   "source": [
    "### （4）求取模型的轮廓系数，绘制轮廓系数折线图，确定最优聚类数目"
   ]
  },
  {
   "cell_type": "code",
   "execution_count": null,
   "metadata": {},
   "outputs": [],
   "source": []
  },
  {
   "cell_type": "markdown",
   "metadata": {},
   "source": [
    "### （5）求取Calinski-Harabasz指数，确定最优聚类数目"
   ]
  },
  {
   "cell_type": "code",
   "execution_count": null,
   "metadata": {},
   "outputs": [],
   "source": []
  },
  {
   "cell_type": "markdown",
   "metadata": {},
   "source": [
    "## 3.构建基于wine数据集的SVM分类模型"
   ]
  },
  {
   "cell_type": "code",
   "execution_count": null,
   "metadata": {},
   "outputs": [],
   "source": []
  },
  {
   "cell_type": "markdown",
   "metadata": {},
   "source": [
    "### （1）读取wine数据集，区分标签和数据"
   ]
  },
  {
   "cell_type": "code",
   "execution_count": null,
   "metadata": {},
   "outputs": [],
   "source": []
  },
  {
   "cell_type": "markdown",
   "metadata": {},
   "source": [
    "### （2）将wine数据集划分为训练集和测试集"
   ]
  },
  {
   "cell_type": "code",
   "execution_count": null,
   "metadata": {},
   "outputs": [],
   "source": []
  },
  {
   "cell_type": "markdown",
   "metadata": {},
   "source": [
    "### （3）使用离差标准化方法标准化wine数据集"
   ]
  },
  {
   "cell_type": "code",
   "execution_count": null,
   "metadata": {},
   "outputs": [],
   "source": []
  },
  {
   "cell_type": "markdown",
   "metadata": {},
   "source": [
    "### （4）构建SVM模型，预测测试集结果"
   ]
  },
  {
   "cell_type": "code",
   "execution_count": null,
   "metadata": {},
   "outputs": [],
   "source": []
  },
  {
   "cell_type": "markdown",
   "metadata": {},
   "source": [
    "### （5）打印分类报告，评价分类模型性能"
   ]
  },
  {
   "cell_type": "code",
   "execution_count": null,
   "metadata": {},
   "outputs": [],
   "source": []
  },
  {
   "cell_type": "markdown",
   "metadata": {},
   "source": [
    "## 4.构建基于wine_quality数据集的回归模型"
   ]
  },
  {
   "cell_type": "code",
   "execution_count": null,
   "metadata": {},
   "outputs": [],
   "source": []
  },
  {
   "cell_type": "markdown",
   "metadata": {},
   "source": [
    "### （1）根据wine_quality数据集数据集处理结果，构建线性回归模型"
   ]
  },
  {
   "cell_type": "code",
   "execution_count": null,
   "metadata": {},
   "outputs": [],
   "source": []
  },
  {
   "cell_type": "markdown",
   "metadata": {},
   "source": [
    "### （2）根据wine_quality数据集数据集处理结果，构建梯度提升回归模型"
   ]
  },
  {
   "cell_type": "code",
   "execution_count": null,
   "metadata": {},
   "outputs": [],
   "source": []
  },
  {
   "cell_type": "markdown",
   "metadata": {},
   "source": [
    "### （3）结合真实评分和预测评分，计算均方误差，中值绝对误差，可解释方差值"
   ]
  },
  {
   "cell_type": "code",
   "execution_count": null,
   "metadata": {},
   "outputs": [],
   "source": []
  },
  {
   "cell_type": "markdown",
   "metadata": {},
   "source": [
    "### （4）根据得分，判定模型的性能优劣"
   ]
  },
  {
   "cell_type": "code",
   "execution_count": null,
   "metadata": {},
   "outputs": [],
   "source": []
  }
 ],
 "metadata": {
  "kernelspec": {
   "display_name": "Python 3",
   "language": "python",
   "name": "python3"
  },
  "language_info": {
   "codemirror_mode": {
    "name": "ipython",
    "version": 3
   },
   "file_extension": ".py",
   "mimetype": "text/x-python",
   "name": "python",
   "nbconvert_exporter": "python",
   "pygments_lexer": "ipython3",
   "version": "3.6.4"
  }
 },
 "nbformat": 4,
 "nbformat_minor": 2
}
