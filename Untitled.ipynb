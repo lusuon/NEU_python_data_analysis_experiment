{
 "cells": [
  {
   "cell_type": "code",
   "execution_count": 7,
   "metadata": {},
   "outputs": [
    {
     "name": "stdout",
     "output_type": "stream",
     "text": [
      "boston数据集数据的形状为： (506, 13)\n",
      "boston数据集标签的形状为： (506,)\n",
      "boston数据集特征名的形状为： (13,)\n"
     ]
    }
   ],
   "source": [
    "from sklearn.datasets import load_boston\n",
    "boston = load_boston()\n",
    "boston_data = boston['data']\n",
    "boston_target = boston['target']\n",
    "boston_names = boston['feature_names']\n",
    "print('boston数据集数据的形状为：',boston_data.shape)\n",
    "print('boston数据集标签的形状为：',boston_target.shape)\n",
    "print('boston数据集特征名的形状为：',boston_names.shape)"
   ]
  },
  {
   "cell_type": "code",
   "execution_count": null,
   "metadata": {},
   "outputs": [],
   "source": []
  }
 ],
 "metadata": {
  "kernelspec": {
   "display_name": "Python 3",
   "language": "python",
   "name": "python3"
  },
  "language_info": {
   "codemirror_mode": {
    "name": "ipython",
    "version": 3
   },
   "file_extension": ".py",
   "mimetype": "text/x-python",
   "name": "python",
   "nbconvert_exporter": "python",
   "pygments_lexer": "ipython3",
   "version": "3.6.4"
  }
 },
 "nbformat": 4,
 "nbformat_minor": 2
}
